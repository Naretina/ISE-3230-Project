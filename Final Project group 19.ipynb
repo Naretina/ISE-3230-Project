{
 "cells": [
  {
   "cell_type": "code",
   "execution_count": 1,
   "id": "8b50e065-52ef-4266-bea0-44d551b95389",
   "metadata": {},
   "outputs": [
    {
     "name": "stdout",
     "output_type": "stream",
     "text": [
      "<class 'pandas.core.frame.DataFrame'>\n",
      "RangeIndex: 60 entries, 0 to 59\n",
      "Data columns (total 6 columns):\n",
      " #   Column           Non-Null Count  Dtype \n",
      "---  ------           --------------  ----- \n",
      " 0   ID               60 non-null     int64 \n",
      " 1   First Name       60 non-null     object\n",
      " 2   Last Name        60 non-null     object\n",
      " 3   Gender           60 non-null     object\n",
      " 4   Age              60 non-null     int64 \n",
      " 5   Times Available  60 non-null     object\n",
      "dtypes: int64(2), object(4)\n",
      "memory usage: 2.9+ KB\n",
      "None\n"
     ]
    }
   ],
   "source": [
    "import pandas as pd\n",
    "import cvxpy as cp\n",
    "\n",
    "# File path will be different on another device and must be replaced with the correct file path.\n",
    "students = pd.read_csv(\"C:/Users/Morgan Eads/Documents/ISE 3230/Sample Data (for scheduling) - Sheet1.csv\")\n",
    "print(students.info())"
   ]
  },
  {
   "cell_type": "code",
   "execution_count": 2,
   "id": "302c3880-92e9-4baa-8fa1-a7ef783a2544",
   "metadata": {},
   "outputs": [
    {
     "data": {
      "text/plain": [
       "Age\n",
       "9     13\n",
       "12    12\n",
       "11    11\n",
       "13     9\n",
       "8      8\n",
       "10     7\n",
       "Name: count, dtype: int64"
      ]
     },
     "execution_count": 2,
     "metadata": {},
     "output_type": "execute_result"
    }
   ],
   "source": [
    "students['Age'].value_counts()"
   ]
  },
  {
   "cell_type": "code",
   "execution_count": null,
   "id": "ee89c8a0-821f-4e41-a752-26ba96e3802c",
   "metadata": {},
   "outputs": [],
   "source": [
    "# TODO: Figure out how to create a new column that separates age into Elem & MS."
   ]
  }
 ],
 "metadata": {
  "kernelspec": {
   "display_name": "Python 3 (ipykernel)",
   "language": "python",
   "name": "python3"
  },
  "language_info": {
   "codemirror_mode": {
    "name": "ipython",
    "version": 3
   },
   "file_extension": ".py",
   "mimetype": "text/x-python",
   "name": "python",
   "nbconvert_exporter": "python",
   "pygments_lexer": "ipython3",
   "version": "3.9.19"
  }
 },
 "nbformat": 4,
 "nbformat_minor": 5
}
