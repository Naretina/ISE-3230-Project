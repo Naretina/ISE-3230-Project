{
 "cells": [
  {
   "cell_type": "code",
   "execution_count": 2,
   "id": "8b50e065-52ef-4266-bea0-44d551b95389",
   "metadata": {},
   "outputs": [
    {
     "name": "stdout",
     "output_type": "stream",
     "text": [
      "<class 'pandas.core.frame.DataFrame'>\n",
      "RangeIndex: 60 entries, 0 to 59\n",
      "Data columns (total 6 columns):\n",
      " #   Column           Non-Null Count  Dtype \n",
      "---  ------           --------------  ----- \n",
      " 0   ID               60 non-null     int64 \n",
      " 1   First Name       60 non-null     object\n",
      " 2   Last Name        60 non-null     object\n",
      " 3   Gender           60 non-null     object\n",
      " 4   Age              60 non-null     int64 \n",
      " 5   Times Available  60 non-null     object\n",
      "dtypes: int64(2), object(4)\n",
      "memory usage: 2.9+ KB\n",
      "None\n"
     ]
    }
   ],
   "source": [
    "import pandas as pd\n",
    "import cvxpy as cp\n",
    "\n",
    "# File path will be different on another device and must be replaced with the correct file path.\n",
    "students = pd.read_csv(\"Sample Data (for scheduling).csv\")\n",
    "print(students.info())"
   ]
  },
  {
   "cell_type": "code",
   "execution_count": 3,
   "id": "302c3880-92e9-4baa-8fa1-a7ef783a2544",
   "metadata": {},
   "outputs": [
    {
     "data": {
      "text/plain": [
       "Age\n",
       "9     13\n",
       "12    12\n",
       "11    11\n",
       "13     9\n",
       "8      8\n",
       "10     7\n",
       "Name: count, dtype: int64"
      ]
     },
     "execution_count": 3,
     "metadata": {},
     "output_type": "execute_result"
    }
   ],
   "source": [
    "students['Age'].value_counts()"
   ]
  },
  {
   "cell_type": "code",
   "execution_count": 5,
   "id": "ee89c8a0-821f-4e41-a752-26ba96e3802c",
   "metadata": {},
   "outputs": [
    {
     "data": {
      "text/html": [
       "<div>\n",
       "<style scoped>\n",
       "    .dataframe tbody tr th:only-of-type {\n",
       "        vertical-align: middle;\n",
       "    }\n",
       "\n",
       "    .dataframe tbody tr th {\n",
       "        vertical-align: top;\n",
       "    }\n",
       "\n",
       "    .dataframe thead th {\n",
       "        text-align: right;\n",
       "    }\n",
       "</style>\n",
       "<table border=\"1\" class=\"dataframe\">\n",
       "  <thead>\n",
       "    <tr style=\"text-align: right;\">\n",
       "      <th></th>\n",
       "      <th>ID</th>\n",
       "      <th>First Name</th>\n",
       "      <th>Last Name</th>\n",
       "      <th>Gender</th>\n",
       "      <th>Age</th>\n",
       "      <th>Times Available</th>\n",
       "      <th>Grade</th>\n",
       "    </tr>\n",
       "  </thead>\n",
       "  <tbody>\n",
       "    <tr>\n",
       "      <th>0</th>\n",
       "      <td>0</td>\n",
       "      <td>Ximeno</td>\n",
       "      <td>Colombo</td>\n",
       "      <td>M</td>\n",
       "      <td>9</td>\n",
       "      <td>[1, 2, 3, 4]</td>\n",
       "      <td>ms</td>\n",
       "    </tr>\n",
       "    <tr>\n",
       "      <th>1</th>\n",
       "      <td>1</td>\n",
       "      <td>Dorothea</td>\n",
       "      <td>Clayton</td>\n",
       "      <td>F</td>\n",
       "      <td>9</td>\n",
       "      <td>[1, 3, 4]</td>\n",
       "      <td>ms</td>\n",
       "    </tr>\n",
       "    <tr>\n",
       "      <th>2</th>\n",
       "      <td>2</td>\n",
       "      <td>Beibhinn</td>\n",
       "      <td>Nye</td>\n",
       "      <td>F</td>\n",
       "      <td>13</td>\n",
       "      <td>[1, 2, 3]</td>\n",
       "      <td>elem</td>\n",
       "    </tr>\n",
       "    <tr>\n",
       "      <th>3</th>\n",
       "      <td>3</td>\n",
       "      <td>Oskar</td>\n",
       "      <td>Ciobanu</td>\n",
       "      <td>M</td>\n",
       "      <td>12</td>\n",
       "      <td>[1, 2, 3, 4]</td>\n",
       "      <td>elem</td>\n",
       "    </tr>\n",
       "    <tr>\n",
       "      <th>4</th>\n",
       "      <td>4</td>\n",
       "      <td>Matilda</td>\n",
       "      <td>Solomon</td>\n",
       "      <td>F</td>\n",
       "      <td>11</td>\n",
       "      <td>[2, 3]</td>\n",
       "      <td>ms</td>\n",
       "    </tr>\n",
       "  </tbody>\n",
       "</table>\n",
       "</div>"
      ],
      "text/plain": [
       "   ID First Name Last Name Gender  Age Times Available Grade\n",
       "0   0     Ximeno   Colombo      M    9    [1, 2, 3, 4]    ms\n",
       "1   1   Dorothea   Clayton      F    9       [1, 3, 4]    ms\n",
       "2   2   Beibhinn       Nye      F   13       [1, 2, 3]  elem\n",
       "3   3      Oskar   Ciobanu      M   12    [1, 2, 3, 4]  elem\n",
       "4   4    Matilda   Solomon      F   11          [2, 3]    ms"
      ]
     },
     "metadata": {},
     "output_type": "display_data"
    }
   ],
   "source": [
    "# Reference: https://www.geeksforgeeks.org/create-a-new-column-in-pandas-dataframe-based-on-the-existing-columns/\n",
    "def grade(age):\n",
    "    if age > 11:\n",
    "        return \"elem\"\n",
    "    else:\n",
    "        return \"ms\"\n",
    "\n",
    "students['Grade'] = students['Age'].map(grade)\n",
    "display(students.head())"
   ]
  },
  {
   "cell_type": "code",
   "execution_count": 6,
   "id": "de8686ba-b37f-418c-8585-db268fc6980f",
   "metadata": {},
   "outputs": [
    {
     "data": {
      "text/plain": [
       "Grade\n",
       "ms      39\n",
       "elem    21\n",
       "Name: count, dtype: int64"
      ]
     },
     "execution_count": 6,
     "metadata": {},
     "output_type": "execute_result"
    }
   ],
   "source": [
    "students['Grade'].value_counts()"
   ]
  },
  {
   "cell_type": "code",
   "execution_count": 7,
   "id": "938fe3a8-2486-448e-954d-07fb7e9e84ce",
   "metadata": {},
   "outputs": [
    {
     "data": {
      "text/plain": [
       "dtype('O')"
      ]
     },
     "execution_count": 7,
     "metadata": {},
     "output_type": "execute_result"
    }
   ],
   "source": [
    "students['Times Available'].dtypes # Reference: https://www.geeksforgeeks.org/how-to-check-the-data-type-in-pandas-dataframe/\n",
    "# We need to change this data so that it is an array."
   ]
  },
  {
   "cell_type": "code",
   "execution_count": null,
   "id": "ccb908d0-a726-4a6d-9bf7-d3b30d8e1f65",
   "metadata": {},
   "outputs": [],
   "source": [
    "# TODO: Figure out how to change 'Times Available' to an array of ints. That way it's easier to read later."
   ]
  },
  {
   "cell_type": "code",
   "execution_count": null,
   "id": "7c684f9e-c2f2-445b-bcdc-cb6bd01fd85e",
   "metadata": {},
   "outputs": [],
   "source": [
    "# TODO: Formulation will be placed here.\n",
    "# QUERY: Would it be okay to drop the gender column since we have no need for it?"
   ]
  }
 ],
 "metadata": {
  "kernelspec": {
   "display_name": "Python 3 (ipykernel)",
   "language": "python",
   "name": "python3"
  },
  "language_info": {
   "codemirror_mode": {
    "name": "ipython",
    "version": 3
   },
   "file_extension": ".py",
   "mimetype": "text/x-python",
   "name": "python",
   "nbconvert_exporter": "python",
   "pygments_lexer": "ipython3",
   "version": "3.9.19"
  }
 },
 "nbformat": 4,
 "nbformat_minor": 5
}
