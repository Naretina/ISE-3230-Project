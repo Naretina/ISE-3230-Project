import cvxpy as cp
import pandas as pd
# TODO: Import data
